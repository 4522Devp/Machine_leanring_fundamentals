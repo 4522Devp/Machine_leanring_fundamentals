{
  "nbformat": 4,
  "nbformat_minor": 0,
  "metadata": {
    "colab": {
      "provenance": [],
      "collapsed_sections": [
        "1HHSgOQbIOQx",
        "xxW74eltRoDK"
      ],
      "authorship_tag": "ABX9TyPhVAbmdqVMVbhjzsoaL74m",
      "include_colab_link": true
    },
    "kernelspec": {
      "name": "python3",
      "display_name": "Python 3"
    },
    "language_info": {
      "name": "python"
    }
  },
  "cells": [
    {
      "cell_type": "markdown",
      "metadata": {
        "id": "view-in-github",
        "colab_type": "text"
      },
      "source": [
        "<a href=\"https://colab.research.google.com/github/4522Devp/Machine_leanring_fundamentals/blob/main/python_basic.ipynb\" target=\"_parent\"><img src=\"https://colab.research.google.com/assets/colab-badge.svg\" alt=\"Open In Colab\"/></a>"
      ]
    },
    {
      "cell_type": "markdown",
      "source": [
        "programming language  used for machine language\n",
        "\n",
        "1. Python\n",
        "2. R\n",
        "\n",
        "\n",
        "#print Function"
      ],
      "metadata": {
        "id": "1HHSgOQbIOQx"
      }
    },
    {
      "cell_type": "code",
      "source": [
        "print(\"machine learning\")\n",
        "print('MACHINE LEARNING')"
      ],
      "metadata": {
        "id": "T_kZKyKELbp-"
      },
      "execution_count": null,
      "outputs": []
    },
    {
      "cell_type": "code",
      "source": [
        "print(\"machine learning \" + \"with Python\")\n",
        "\n",
        "print(8)"
      ],
      "metadata": {
        "colab": {
          "base_uri": "https://localhost:8080/"
        },
        "id": "Vt6Lx9ycJlQs",
        "outputId": "28dedb97-e4ad-4316-b37e-b2f3a41e1f14"
      },
      "execution_count": null,
      "outputs": [
        {
          "output_type": "stream",
          "name": "stdout",
          "text": [
            "machine learning with Python\n",
            "8\n"
          ]
        }
      ]
    },
    {
      "cell_type": "code",
      "source": [],
      "metadata": {
        "id": "i2XYhzT_J3Ho"
      },
      "execution_count": null,
      "outputs": []
    },
    {
      "cell_type": "markdown",
      "source": [],
      "metadata": {
        "id": "Z0NAwFNPRlTW"
      }
    },
    {
      "cell_type": "markdown",
      "source": [
        "#constants & variables"
      ],
      "metadata": {
        "id": "xxW74eltRoDK"
      }
    },
    {
      "cell_type": "code",
      "source": [
        "marvel = \"ironman\"\n",
        "print(marvel)"
      ],
      "metadata": {
        "colab": {
          "base_uri": "https://localhost:8080/"
        },
        "id": "lIutoMmYR0ll",
        "outputId": "cd00c908-16a9-4b04-c318-ed374313d153"
      },
      "execution_count": null,
      "outputs": [
        {
          "output_type": "stream",
          "name": "stdout",
          "text": [
            "ironman\n"
          ]
        }
      ]
    },
    {
      "cell_type": "code",
      "source": [
        "hero1,hero2,hero3 =\"krish\",\"singham\",\"G-one\"\n",
        "print(hero1)\n",
        "print(hero2)\n",
        "print(hero3)\n"
      ],
      "metadata": {
        "colab": {
          "base_uri": "https://localhost:8080/"
        },
        "id": "p7jr6xZ5R86U",
        "outputId": "d44e4e8f-77a7-4ea9-e5b4-5054143a2706"
      },
      "execution_count": null,
      "outputs": [
        {
          "output_type": "stream",
          "name": "stdout",
          "text": [
            "krish\n",
            "singham\n",
            "G-one\n"
          ]
        }
      ]
    },
    {
      "cell_type": "markdown",
      "source": [
        "#input function\n"
      ],
      "metadata": {
        "id": "yovdgJ64SjnM"
      }
    },
    {
      "cell_type": "code",
      "source": [
        "num1 = int(input(\"enter the first number:\"))\n",
        "num2= int(input(\"enter the second number:\"))\n",
        "\n",
        "sum = num1 + num2\n",
        "print(\"sum is :\", sum)\n"
      ],
      "metadata": {
        "colab": {
          "base_uri": "https://localhost:8080/"
        },
        "id": "7Y4D8gZ1Socq",
        "outputId": "e607b5af-6ff9-48cc-a891-cadb5468a9a8"
      },
      "execution_count": null,
      "outputs": [
        {
          "output_type": "stream",
          "name": "stdout",
          "text": [
            "enter the first number:2\n",
            "enter the second number:3\n",
            "sum is : 5\n"
          ]
        }
      ]
    },
    {
      "cell_type": "markdown",
      "source": [
        "#Basic Data Types In Python:\n",
        "\n",
        "1.integer\n",
        "2.Floating point\n",
        "3.complex\n",
        "4.Boolean\n",
        "5.string"
      ],
      "metadata": {
        "id": "ta_nExRUT76p"
      }
    },
    {
      "cell_type": "code",
      "source": [
        "#integer\n",
        "a = 8\n",
        "print(a)\n",
        "print(type(a))"
      ],
      "metadata": {
        "colab": {
          "base_uri": "https://localhost:8080/"
        },
        "id": "FegBx1_fUNbb",
        "outputId": "38f0d71a-0fdc-46f8-f20e-2c7de095817e"
      },
      "execution_count": null,
      "outputs": [
        {
          "output_type": "stream",
          "name": "stdout",
          "text": [
            "8\n",
            "<class 'int'>\n"
          ]
        }
      ]
    },
    {
      "cell_type": "code",
      "source": [
        "#folating values\n",
        "b = 2.4\n",
        "print(b)\n",
        "print(type(b))"
      ],
      "metadata": {
        "colab": {
          "base_uri": "https://localhost:8080/"
        },
        "id": "0oF47EEeU9Jh",
        "outputId": "d026ea88-b64f-422d-b097-991f6c2294f6"
      },
      "execution_count": null,
      "outputs": [
        {
          "output_type": "stream",
          "name": "stdout",
          "text": [
            "2.4\n",
            "<class 'float'>\n"
          ]
        }
      ]
    },
    {
      "cell_type": "code",
      "source": [
        "# complex number\n",
        "\n",
        "c = 1 + 3j\n",
        "print(c)\n",
        "type(c)"
      ],
      "metadata": {
        "colab": {
          "base_uri": "https://localhost:8080/"
        },
        "id": "vWp4LZWCVHfr",
        "outputId": "e1254999-e625-46d1-add8-a772cc73a5da"
      },
      "execution_count": null,
      "outputs": [
        {
          "output_type": "stream",
          "name": "stdout",
          "text": [
            "(1+3j)\n"
          ]
        },
        {
          "output_type": "execute_result",
          "data": {
            "text/plain": [
              "complex"
            ]
          },
          "metadata": {},
          "execution_count": 10
        }
      ]
    },
    {
      "cell_type": "markdown",
      "source": [
        "#convertion data type"
      ],
      "metadata": {
        "id": "HTEDrtb1Vdcx"
      }
    },
    {
      "cell_type": "code",
      "source": [
        "# int to flaot\n",
        "\n",
        "x = 10\n",
        "print(x)\n",
        "print(type(x))\n",
        "\n",
        "y =  float(x)\n",
        "print(type(y))\n",
        "print(y)"
      ],
      "metadata": {
        "colab": {
          "base_uri": "https://localhost:8080/"
        },
        "id": "_RIIh9vmVhQC",
        "outputId": "ab79b1dc-c610-4f89-aa95-ff4ae6de2939"
      },
      "execution_count": null,
      "outputs": [
        {
          "output_type": "stream",
          "name": "stdout",
          "text": [
            "10\n",
            "<class 'int'>\n",
            "<class 'float'>\n",
            "10.0\n"
          ]
        }
      ]
    },
    {
      "cell_type": "code",
      "source": [
        "# float to integer\n",
        "x = 5.9\n",
        "print(type(x))\n",
        "print(x)\n",
        "\n",
        "y = int(x)\n",
        "print(type(y))\n",
        "print(y)"
      ],
      "metadata": {
        "colab": {
          "base_uri": "https://localhost:8080/"
        },
        "id": "7XpHb8w4Vyi7",
        "outputId": "35130b2a-2ae4-4f7e-8aad-4d509cac5829"
      },
      "execution_count": null,
      "outputs": [
        {
          "output_type": "stream",
          "name": "stdout",
          "text": [
            "<class 'float'>\n",
            "5.9\n",
            "<class 'int'>\n",
            "5\n"
          ]
        }
      ]
    },
    {
      "cell_type": "markdown",
      "source": [
        "#boolean\n",
        "\n",
        " 1. True\n",
        " 2. False"
      ],
      "metadata": {
        "id": "Nr1q3fcYWkRf"
      }
    },
    {
      "cell_type": "code",
      "source": [
        "A = True\n",
        "print(A)\n",
        "print(type(A))"
      ],
      "metadata": {
        "colab": {
          "base_uri": "https://localhost:8080/"
        },
        "id": "O1yL50dGWs4l",
        "outputId": "585412a5-40b2-4e9c-cc59-eda3a64a90dd"
      },
      "execution_count": null,
      "outputs": [
        {
          "output_type": "stream",
          "name": "stdout",
          "text": [
            "True\n",
            "<class 'bool'>\n"
          ]
        }
      ]
    },
    {
      "cell_type": "code",
      "source": [
        "a = 7 < 3\n",
        "print(a)\n",
        "\n",
        "b = 7 > 3\n",
        "print(b)"
      ],
      "metadata": {
        "colab": {
          "base_uri": "https://localhost:8080/"
        },
        "id": "lhHx3nL8XDyb",
        "outputId": "1aad8a24-e87d-4701-cfe6-2af2a139f52b"
      },
      "execution_count": null,
      "outputs": [
        {
          "output_type": "stream",
          "name": "stdout",
          "text": [
            "False\n",
            "True\n"
          ]
        }
      ]
    },
    {
      "cell_type": "markdown",
      "source": [
        "#Strings"
      ],
      "metadata": {
        "id": "TWMhs5f5Xjou"
      }
    },
    {
      "cell_type": "code",
      "source": [
        "string = \"Machine Learning\"\n",
        "print(type(string))"
      ],
      "metadata": {
        "colab": {
          "base_uri": "https://localhost:8080/"
        },
        "id": "ShKeT38MXl_y",
        "outputId": "89d5b7bf-fc0b-41c9-8006-24c728670a6e"
      },
      "execution_count": null,
      "outputs": [
        {
          "output_type": "stream",
          "name": "stdout",
          "text": [
            "<class 'str'>\n"
          ]
        }
      ]
    },
    {
      "cell_type": "code",
      "source": [
        "print(\"hello \"*4)\n"
      ],
      "metadata": {
        "colab": {
          "base_uri": "https://localhost:8080/"
        },
        "id": "GD_3cP67X9Ci",
        "outputId": "3ca2a583-debc-480d-ff15-146e7aa2ab13"
      },
      "execution_count": null,
      "outputs": [
        {
          "output_type": "stream",
          "name": "stdout",
          "text": [
            "hello hello hello hello \n"
          ]
        }
      ]
    },
    {
      "cell_type": "code",
      "source": [
        "print(string[1:5])"
      ],
      "metadata": {
        "colab": {
          "base_uri": "https://localhost:8080/"
        },
        "id": "sc9ZRKaJYHTD",
        "outputId": "246e6be2-48cc-4655-d0a2-6691d85d90df"
      },
      "execution_count": null,
      "outputs": [
        {
          "output_type": "stream",
          "name": "stdout",
          "text": [
            "achi\n"
          ]
        }
      ]
    },
    {
      "cell_type": "code",
      "source": [
        "print(string[-4:-1])"
      ],
      "metadata": {
        "colab": {
          "base_uri": "https://localhost:8080/"
        },
        "id": "43nl50yNYPXC",
        "outputId": "1e4315fb-11d6-48db-fca8-713d724512ef"
      },
      "execution_count": null,
      "outputs": [
        {
          "output_type": "stream",
          "name": "stdout",
          "text": [
            "nin\n"
          ]
        }
      ]
    },
    {
      "cell_type": "code",
      "source": [
        "#steps\n",
        "\n",
        "print(string[0:10:2])"
      ],
      "metadata": {
        "colab": {
          "base_uri": "https://localhost:8080/"
        },
        "id": "Qww41tSvYlt2",
        "outputId": "20520779-b25f-46e6-fb98-509a2f9ad601"
      },
      "execution_count": null,
      "outputs": [
        {
          "output_type": "stream",
          "name": "stdout",
          "text": [
            "McieL\n"
          ]
        }
      ]
    },
    {
      "cell_type": "code",
      "source": [
        "#string concadination\n",
        "\n",
        "str1 = \"machine \"\n",
        "\n",
        "str2 = \"world\"\n",
        "\n",
        "print(str1 + str2)"
      ],
      "metadata": {
        "colab": {
          "base_uri": "https://localhost:8080/"
        },
        "id": "cwDEkc33Y9Oh",
        "outputId": "bac06cdb-e24a-46d8-8364-726af279dd41"
      },
      "execution_count": null,
      "outputs": [
        {
          "output_type": "stream",
          "name": "stdout",
          "text": [
            "machine world\n"
          ]
        }
      ]
    }
  ]
}