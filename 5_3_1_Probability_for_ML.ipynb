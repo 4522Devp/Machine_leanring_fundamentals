{
  "nbformat": 4,
  "nbformat_minor": 0,
  "metadata": {
    "colab": {
      "provenance": [],
      "authorship_tag": "ABX9TyMhubmJPJuo0BWzN47fMguT",
      "include_colab_link": true
    },
    "kernelspec": {
      "name": "python3",
      "display_name": "Python 3"
    },
    "language_info": {
      "name": "python"
    }
  },
  "cells": [
    {
      "cell_type": "markdown",
      "metadata": {
        "id": "view-in-github",
        "colab_type": "text"
      },
      "source": [
        "<a href=\"https://colab.research.google.com/github/4522Devp/Machine_leanring_fundamentals/blob/main/5_3_1_Probability_for_ML.ipynb\" target=\"_parent\"><img src=\"https://colab.research.google.com/assets/colab-badge.svg\" alt=\"Open In Colab\"/></a>"
      ]
    },
    {
      "cell_type": "markdown",
      "source": [
        "Probabitiy: is branch of mathematics that deals with calculating the likelihood of a given event to occur.\n",
        "\n",
        "Simple Example:\n",
        "1. Roll a Dice\n",
        "2. Toss a coin\n",
        "3. Bag containing diffrent coloured balls\n",
        "\n",
        "In ML we have data, and we use this data to train our ML model"
      ],
      "metadata": {
        "id": "iJaGzx1gEhvZ"
      }
    },
    {
      "cell_type": "markdown",
      "source": [
        "The Probability value lies between 0 and 1.\n",
        "\n",
        " 0|------------------|------------------|1\n",
        "\n",
        " P = Number of ways an event car occur/ Total number of outcomes."
      ],
      "metadata": {
        "id": "jKfTtP0Fc5ol"
      }
    },
    {
      "cell_type": "markdown",
      "source": [
        "**Random Variables**\n",
        "\n",
        ": A Random variable is a numerical description description of the outcomes of Random Events\n",
        "\n",
        "Random variable maps the outcomes of random events to numerical values.\n",
        "\n",
        "Applications:\n",
        "1. Turnover of a company in a given time period.\n",
        "2. Price change of an asset over a given period.\n",
        "\n",
        "Types of Data:\n",
        "1. Discrete -> It takes only discrete ir distict values. Ex - Coin toss, Color of the Ball.\n",
        "\n",
        "2. Continous -> It can take any value in a given range.  Ex - Weight of a random person in a Class."
      ],
      "metadata": {
        "id": "sM41cJLteFZC"
      }
    },
    {
      "cell_type": "markdown",
      "source": [
        "Probability Distribution For Random Variable:\n",
        "\n",
        "The Probability distribution random variable describes how the Probabilities are distributed over the values of the random variable.\n",
        "\n",
        "Tosing 3 Coins.\n",
        "\n",
        "X = sum of number of Heads when 3 Coins are tossed\n",
        "\n",
        "* HHH = 3\n",
        "* TTT = 3\n",
        "* HTT = 1\n",
        "* THT = 1"
      ],
      "metadata": {
        "id": "_aIUaH_3gxdU"
      }
    },
    {
      "cell_type": "markdown",
      "source": [
        "*Normal distribution & Skewness*\n",
        "\n",
        "* Normal Distribution --> is an Arrangement of a dataset in which most of the data points lie in the middle of the range and the rest taper off symmantrically toward either extreme.\n",
        "\n",
        "    Normal ditribution is also Known as Gussian Distribution.\n",
        "\n",
        "* Skewness -->  when the distribution curve appears distorted or skewed either to the left or to the right, in a statistical distribution.\n",
        "\n",
        "    Types of Skewness:\n",
        "    * Negatively Skewed : Mean >> Median >> Mode\n",
        "    * Normal : Mode == mediam == Mean\n",
        "    * Positively Skewed : Mode >> Median >> Mean"
      ],
      "metadata": {
        "id": "2wn1t-I5jdf6"
      }
    },
    {
      "cell_type": "markdown",
      "source": [
        "**Poisson Distribution**\n",
        "\n",
        "Poisson is a Probabiity distribution that  measures how many times an event is likely occure within a specified period of time.\n",
        "\n",
        "Poisson distribution is used to understand independent events that occur at a constant rate within a given time.\n",
        "\n",
        "Example:\n",
        "1. Number of accident coouringin a city from 5pm to 10 pm\n",
        "2. how many viewss does your blog gets in a day\n",
        "\n",
        "P(x) = (e^-λ *\tλ^x)/x!\n",
        "\n",
        "* x= number of times the event occurs\n",
        "* P(x) = Probality\n",
        "* λ = Mean number of events\n",
        "* x! = factorial of X\n",
        "* e = Euler's Number(2.70828)"
      ],
      "metadata": {
        "id": "8P9_faCbnImE"
      }
    }
  ]
}