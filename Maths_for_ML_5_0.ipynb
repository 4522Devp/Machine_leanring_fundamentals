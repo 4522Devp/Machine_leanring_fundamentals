{
  "nbformat": 4,
  "nbformat_minor": 0,
  "metadata": {
    "colab": {
      "provenance": [],
      "authorship_tag": "ABX9TyNTKyh+S7YBVnqbuH2eXqla",
      "include_colab_link": true
    },
    "kernelspec": {
      "name": "python3",
      "display_name": "Python 3"
    },
    "language_info": {
      "name": "python"
    }
  },
  "cells": [
    {
      "cell_type": "markdown",
      "metadata": {
        "id": "view-in-github",
        "colab_type": "text"
      },
      "source": [
        "<a href=\"https://colab.research.google.com/github/4522Devp/Machine_leanring_fundamentals/blob/main/Maths_for_ML_5_0.ipynb\" target=\"_parent\"><img src=\"https://colab.research.google.com/assets/colab-badge.svg\" alt=\"Open In Colab\"/></a>"
      ]
    },
    {
      "cell_type": "markdown",
      "source": [
        "Linear Algebra\n",
        "\n",
        "Statistics\n",
        "\n",
        "probability\n",
        "\n",
        "calculus"
      ],
      "metadata": {
        "id": "L1spKQRi9e-T"
      }
    },
    {
      "cell_type": "markdown",
      "source": [
        "# 5.1.1 Linear Algebra-Vectors"
      ],
      "metadata": {
        "id": "JrMH4GLw-Gak"
      }
    },
    {
      "cell_type": "markdown",
      "source": [
        "vectors - Physics based Approach:\n",
        "\n",
        "scalar Quentity - has no direction            \n",
        "Vector Quentity has a  direction"
      ],
      "metadata": {
        "id": "gMQZA0rx1t62"
      }
    },
    {
      "cell_type": "markdown",
      "source": [
        "Vectors -- Mathematical Approach\n",
        "\n",
        "vectors have : Magnitude & Direction\n",
        "\n",
        "magnitude of Vector :  (x1^2 + x2^2)^1/2\n",
        "\n"
      ],
      "metadata": {
        "id": "9MWhOc8G2Qnt"
      }
    },
    {
      "cell_type": "markdown",
      "source": [
        "Vectors - Computer Science Approach\n"
      ],
      "metadata": {
        "id": "06yBrPtF3uDf"
      }
    },
    {
      "cell_type": "markdown",
      "source": [
        "#5.1.2 Vector Operations -- Part 1\n"
      ],
      "metadata": {
        "id": "qQAw0_ye4aQB"
      }
    },
    {
      "cell_type": "markdown",
      "source": [
        "vector Addition\n",
        "\n",
        "vector subtraction\n",
        "\n",
        "Multiplying a vector by  scalar\n",
        "\n",
        "angle between 2 Vectors\n",
        "\n",
        "5.1.3\n"
      ],
      "metadata": {
        "id": "oKzdlF234xad"
      }
    },
    {
      "cell_type": "markdown",
      "source": [
        "#5.1.3 Vector Operations Practice"
      ],
      "metadata": {
        "id": "21pQGjCe5xfn"
      }
    },
    {
      "cell_type": "code",
      "source": [
        "import numpy as np\n",
        "import matplotlib.pyplot as plt\n",
        "import seaborn as sns\n",
        "\n",
        "sns.set()"
      ],
      "metadata": {
        "id": "QRbDdF347GKf"
      },
      "execution_count": null,
      "outputs": []
    },
    {
      "cell_type": "markdown",
      "source": [
        "plotting a Vector"
      ],
      "metadata": {
        "id": "9jeTzuxh7iBu"
      }
    },
    {
      "cell_type": "code",
      "source": [
        "plt.quiver(0,0,4,5)\n",
        "plt.show()"
      ],
      "metadata": {
        "colab": {
          "base_uri": "https://localhost:8080/",
          "height": 434
        },
        "id": "4QgXX3I-7gtl",
        "outputId": "d2768a84-70b5-44a3-ce03-ebc460bed8c6"
      },
      "execution_count": null,
      "outputs": [
        {
          "output_type": "display_data",
          "data": {
            "text/plain": [
              "<Figure size 640x480 with 1 Axes>"
            ],
            "image/png": "[encoded data removed]"
          },
          "metadata": {}
        }
      ]
    },
    {
      "cell_type": "code",
      "source": [
        "plt.quiver(0,0,4,5,scale_units='xy',angles='xy',scale=1)\n",
        "plt.xlim(-0,0)\n",
        "plt.ylim(-0,0)\n",
        "plt.show()"
      ],
      "metadata": {
        "colab": {
          "base_uri": "https://localhost:8080/",
          "height": 503
        },
        "id": "54LL92F08UIu",
        "outputId": "4a17df77-44ac-4aff-a49c-d32bec8e9d36"
      },
      "execution_count": null,
      "outputs": [
        {
          "output_type": "stream",
          "name": "stderr",
          "text": [
            "<ipython-input-4-5454caa7b388>:2: UserWarning: Attempting to set identical low and high xlims makes transformation singular; automatically expanding.\n",
            "  plt.xlim(-0,0)\n",
            "<ipython-input-4-5454caa7b388>:3: UserWarning: Attempting to set identical low and high ylims makes transformation singular; automatically expanding.\n",
            "  plt.ylim(-0,0)\n"
          ]
        },
        {
          "output_type": "display_data",
          "data": {
            "text/plain": [
              "<Figure size 640x480 with 1 Axes>"
            ],
            "image/png": "[encoded data removed]"
          },
          "metadata": {}
        }
      ]
    },
    {
      "cell_type": "code",
      "source": [
        "plt.quiver(0,0,4,5,scale_units='xy',angles='xy',scale=1, color='b')\n",
        "plt.xlim(-5,5)\n",
        "plt.ylim(-5,5)\n",
        "plt.show()"
      ],
      "metadata": {
        "colab": {
          "base_uri": "https://localhost:8080/",
          "height": 434
        },
        "id": "Ho1dfA1K_QSi",
        "outputId": "1cefd404-4cad-481f-a235-c01e562e54af"
      },
      "execution_count": null,
      "outputs": [
        {
          "output_type": "display_data",
          "data": {
            "text/plain": [
              "<Figure size 640x480 with 1 Axes>"
            ],
            "image/png": "[encoded data removed]"
          },
          "metadata": {}
        }
      ]
    },
    {
      "cell_type": "markdown",
      "source": [
        "Additon of Two Vectors"
      ],
      "metadata": {
        "id": "JE6AKn46_l1H"
      }
    },
    {
      "cell_type": "code",
      "source": [
        "vector_1 = np.asarray([0,0,2,3])\n",
        "\n",
        "vector_2 = np.asarray([0,0,3,-2])\n",
        "\n",
        "sum = vector_1 + vector_2\n",
        "print(sum)"
      ],
      "metadata": {
        "colab": {
          "base_uri": "https://localhost:8080/"
        },
        "id": "BbKs9Frg_jqP",
        "outputId": "1d13dc4b-13c8-4d2e-fe04-5dfbd405750d"
      },
      "execution_count": null,
      "outputs": [
        {
          "output_type": "stream",
          "name": "stdout",
          "text": [
            "[0 0 5 1]\n"
          ]
        }
      ]
    },
    {
      "cell_type": "code",
      "source": [
        "plt.quiver(0,0,2,3,scale_units='xy',angles='xy',scale=1, color='b')\n",
        "plt.quiver(0,0,3,-2,scale_units='xy',angles='xy',scale=1, color='y')\n",
        "plt.quiver(0,0,5,1,scale_units='xy',angles='xy',scale=1, color='g')\n",
        "plt.xlim(2,-2)\n",
        "plt.ylim(2,-2)\n",
        "plt.show()"
      ],
      "metadata": {
        "colab": {
          "base_uri": "https://localhost:8080/",
          "height": 440
        },
        "id": "cRnjSJ87CGev",
        "outputId": "c76007a8-c779-45d5-9613-025ca78ea490"
      },
      "execution_count": null,
      "outputs": [
        {
          "output_type": "display_data",
          "data": {
            "text/plain": [
              "<Figure size 640x480 with 1 Axes>"
            ],
            "image/png": "[encoded data removed]"
          },
          "metadata": {}
        }
      ]
    },
    {
      "cell_type": "markdown",
      "source": [
        "Subtraction of 2 Vectors"
      ],
      "metadata": {
        "id": "I6E8a5XzC0i_"
      }
    },
    {
      "cell_type": "code",
      "source": [
        "vector_1 = np.asarray([0,0,2,3])\n",
        "\n",
        "vector_2 = np.asarray([0,0,3,-2])\n",
        "\n",
        "sub = vector_1 - vector_2\n",
        "print(sub)"
      ],
      "metadata": {
        "colab": {
          "base_uri": "https://localhost:8080/"
        },
        "id": "_GODoBIVC2Hw",
        "outputId": "a1f1564f-d725-4058-cb31-a5164eb87a9f"
      },
      "execution_count": null,
      "outputs": [
        {
          "output_type": "stream",
          "name": "stdout",
          "text": [
            "[ 0  0 -1  5]\n"
          ]
        }
      ]
    },
    {
      "cell_type": "markdown",
      "source": [
        "Multiplying a Vector"
      ],
      "metadata": {
        "id": "aTc18fRVDhip"
      }
    },
    {
      "cell_type": "code",
      "source": [
        "vector_1 = np.asarray([0,0,2,3])\n",
        "\n",
        "vector_2 = 2*vector_1\n",
        "print(vector_2)"
      ],
      "metadata": {
        "colab": {
          "base_uri": "https://localhost:8080/"
        },
        "id": "URcuseDnDnES",
        "outputId": "874a6b35-bb87-4ba6-9240-6645d83b90a9"
      },
      "execution_count": null,
      "outputs": [
        {
          "output_type": "stream",
          "name": "stdout",
          "text": [
            "[0 0 4 6]\n"
          ]
        }
      ]
    },
    {
      "cell_type": "code",
      "source": [
        "plt.quiver(0,0,2,3,scale_units='xy',angles='xy',scale=1, color='b')\n",
        "plt.quiver(0,0,3,-2,scale_units='xy',angles='xy',scale=1, color='y')\n",
        "plt.quiver(0,0,4,6,scale_units='xy',angles='xy',scale=1, color='g')\n",
        "plt.xlim(2,-2)\n",
        "plt.ylim(2,-2)\n",
        "plt.show()"
      ],
      "metadata": {
        "colab": {
          "base_uri": "https://localhost:8080/",
          "height": 440
        },
        "id": "TrFZBtveEUSb",
        "outputId": "6eb61913-1b58-4351-cace-18f9f954d9b0"
      },
      "execution_count": null,
      "outputs": [
        {
          "output_type": "display_data",
          "data": {
            "text/plain": [
              "<Figure size 640x480 with 1 Axes>"
            ],
            "image/png": "[encoded data removed]"
          },
          "metadata": {}
        }
      ]
    },
    {
      "cell_type": "markdown",
      "source": [
        "**Part Two**\n",
        "\n",
        "1. Dot Product of 2 Vectors\n",
        "2. Cross Product of 2 Vectors\n",
        "3. Projection of Vector"
      ],
      "metadata": {
        "id": "Wga3ab1ZE4sT"
      }
    },
    {
      "cell_type": "markdown",
      "source": [
        "1. Dot Product of 2 Vectors"
      ],
      "metadata": {
        "id": "3G3OZ_PEFd95"
      }
    },
    {
      "cell_type": "code",
      "source": [
        "import numpy as np"
      ],
      "metadata": {
        "id": "rTYfHbhP3Z1X"
      },
      "execution_count": null,
      "outputs": []
    },
    {
      "cell_type": "code",
      "source": [
        "a = np.array([2,3])\n",
        "\n",
        "b = np.array([4,4])\n",
        "\n",
        "a_dot_b = np.dot(a,b)"
      ],
      "metadata": {
        "id": "40XtFMfC32Z6"
      },
      "execution_count": null,
      "outputs": []
    },
    {
      "cell_type": "code",
      "source": [
        "print(a_dot_b)"
      ],
      "metadata": {
        "colab": {
          "base_uri": "https://localhost:8080/"
        },
        "id": "vuWF7ZLV4Vmy",
        "outputId": "652789f1-de47-4f9e-9ba1-ba7bad34d670"
      },
      "execution_count": null,
      "outputs": [
        {
          "output_type": "stream",
          "name": "stdout",
          "text": [
            "20\n"
          ]
        }
      ]
    },
    {
      "cell_type": "code",
      "source": [
        "c = np.array([23,33,54])\n",
        "\n",
        "d = np.array([43,56,32])\n",
        "\n",
        "\n",
        "c_dot_d = np.dot(c,d)\n",
        "\n",
        "print(c_dot_d)"
      ],
      "metadata": {
        "colab": {
          "base_uri": "https://localhost:8080/"
        },
        "id": "GrFNN6wi4gjy",
        "outputId": "50c14007-b077-40ab-a33f-7580c1495f9b"
      },
      "execution_count": null,
      "outputs": [
        {
          "output_type": "stream",
          "name": "stdout",
          "text": [
            "4565\n"
          ]
        }
      ]
    },
    {
      "cell_type": "markdown",
      "source": [
        "**Cross Product of Two Vectors**"
      ],
      "metadata": {
        "id": "CaPwcUPE43xd"
      }
    },
    {
      "cell_type": "code",
      "source": [
        "a = np.array([2,3])\n",
        "\n",
        "b = np.array([4,4])\n",
        "\n",
        "a_cross_b= np.cross(a,b)\n",
        "\n",
        "print(a_cross_b)"
      ],
      "metadata": {
        "colab": {
          "base_uri": "https://localhost:8080/"
        },
        "id": "ISz2bZ9H5Ak_",
        "outputId": "d5b4ed83-8c2d-48ef-c1d0-f02cce3a7f71"
      },
      "execution_count": null,
      "outputs": [
        {
          "output_type": "stream",
          "name": "stdout",
          "text": [
            "-4\n"
          ]
        }
      ]
    },
    {
      "cell_type": "code",
      "source": [
        "c = np.array([34,65,86])\n",
        "\n",
        "d = np.array([23,65,89])\n",
        "\n",
        "c_cross_d = np.cross(c,d)\n",
        "\n",
        "print(c_cross_d)"
      ],
      "metadata": {
        "colab": {
          "base_uri": "https://localhost:8080/"
        },
        "id": "ICtol73l5sak",
        "outputId": "30e59e97-0ade-49fb-9b82-e49d2b01e87c"
      },
      "execution_count": null,
      "outputs": [
        {
          "output_type": "stream",
          "name": "stdout",
          "text": [
            "[  195 -1048   715]\n"
          ]
        }
      ]
    },
    {
      "cell_type": "markdown",
      "source": [
        "**Projection of VEctor**\n",
        "\n",
        "**Proj**vA = (a.v)/||v||^2 .v"
      ],
      "metadata": {
        "id": "AsO8i_qP6ZBj"
      }
    },
    {
      "cell_type": "code",
      "source": [
        "a = np.array([3,4])\n",
        "v = np.array([8,-6])\n",
        "\n",
        "#  magnitude of \"v\" Vector\n",
        "magnitude_of_v = np.sqrt(sum(v**2))\n",
        "\n",
        "projection_of_a_on_v= (np.dot(a,v)/magnitude_of_v**2)*v\n",
        "\n",
        "print(\"projection of a vector on v Vector: \", projection_of_a_on_v)"
      ],
      "metadata": {
        "colab": {
          "base_uri": "https://localhost:8080/"
        },
        "id": "NvZ6D4dY66uE",
        "outputId": "424bf102-a18a-4931-f4fe-a8416f6065f7"
      },
      "execution_count": null,
      "outputs": [
        {
          "output_type": "stream",
          "name": "stdout",
          "text": [
            "projection of a vector on v Vector:  [ 0. -0.]\n"
          ]
        }
      ]
    },
    {
      "cell_type": "code",
      "source": [
        "a = np.array([33,41,54])\n",
        "v = np.array([43,54,87])\n",
        "\n",
        "#  magnitude of \"v\" Vector\n",
        "magnitude_of_v = np.sqrt(sum(v**2))\n",
        "\n",
        "projection_of_a_on_v= (np.dot(a,v)/magnitude_of_v**2)*v\n",
        "\n",
        "print(\"projection of a vector on v Vector: \", projection_of_a_on_v)"
      ],
      "metadata": {
        "colab": {
          "base_uri": "https://localhost:8080/"
        },
        "id": "R9FTmOtl8YPS",
        "outputId": "c7c8500a-8ba0-4199-cea8-867761c9b20b"
      },
      "execution_count": null,
      "outputs": [
        {
          "output_type": "stream",
          "name": "stdout",
          "text": [
            "projection of a vector on v Vector:  [29.04434895 36.47429869 58.76414788]\n"
          ]
        }
      ]
    }
  ]
}