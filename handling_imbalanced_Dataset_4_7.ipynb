{
  "nbformat": 4,
  "nbformat_minor": 0,
  "metadata": {
    "colab": {
      "provenance": [],
      "authorship_tag": "ABX9TyPCJMJiV1vvft4zX0oaXXvh",
      "include_colab_link": true
    },
    "kernelspec": {
      "name": "python3",
      "display_name": "Python 3"
    },
    "language_info": {
      "name": "python"
    }
  },
  "cells": [
    {
      "cell_type": "markdown",
      "metadata": {
        "id": "view-in-github",
        "colab_type": "text"
      },
      "source": [
        "<a href=\"https://colab.research.google.com/github/4522Devp/Machine_leanring_fundamentals/blob/main/handling_imbalanced_Dataset_4_7.ipynb\" target=\"_parent\"><img src=\"https://colab.research.google.com/assets/colab-badge.svg\" alt=\"Open In Colab\"/></a>"
      ]
    },
    {
      "cell_type": "markdown",
      "source": [
        "**Imbalanced Dataset**\n",
        "\n",
        "A dataset with an unequal class distribution"
      ],
      "metadata": {
        "id": "Gl2apP36IlLc"
      }
    },
    {
      "cell_type": "code",
      "execution_count": null,
      "metadata": {
        "id": "ei2e65nvIXEY"
      },
      "outputs": [],
      "source": [
        "import numpy as np\n",
        "import pandas as pd"
      ]
    },
    {
      "cell_type": "code",
      "source": [
        "# loading the dataset to pandas dataframe\n",
        "credit_card_data = pd.read_csv('/content/credit_data.csv')"
      ],
      "metadata": {
        "id": "3ZH3FziVJwMv"
      },
      "execution_count": null,
      "outputs": []
    },
    {
      "cell_type": "code",
      "source": [
        "# first 5 rows of the dataFrame\n",
        "credit_card_data.head()"
      ],
      "metadata": {
        "id": "pnxh2z5JKCzX"
      },
      "execution_count": null,
      "outputs": []
    },
    {
      "cell_type": "code",
      "source": [
        "credit_card_data.tail()"
      ],
      "metadata": {
        "id": "R7HXgf7oKXvK"
      },
      "execution_count": null,
      "outputs": []
    },
    {
      "cell_type": "code",
      "source": [
        "# distribution of the two classes\n",
        "credit_card_data['Class'].value_counts()"
      ],
      "metadata": {
        "id": "GuRQ3cBCKoT7"
      },
      "execution_count": null,
      "outputs": []
    },
    {
      "cell_type": "markdown",
      "source": [
        "This is Highly imbalanced Dataset\n",
        "\n",
        "0 --> legit Transaction\n",
        "\n",
        "1 --> fraudulent Transaction"
      ],
      "metadata": {
        "id": "qr6yCvpGLJ4e"
      }
    },
    {
      "cell_type": "code",
      "source": [
        "# separating the digit and fraudulent transaction\n",
        "legit = credit_card_data[credit_card_data.Class == 0]\n",
        "fraud = credit_card_data[credit_card_data.Class == 1]"
      ],
      "metadata": {
        "id": "z555li4uK5gT"
      },
      "execution_count": null,
      "outputs": []
    },
    {
      "cell_type": "code",
      "source": [
        "print(legit.shape)\n",
        "print(fraud.shape)"
      ],
      "metadata": {
        "id": "ZoYPRIGEMbTK"
      },
      "execution_count": null,
      "outputs": []
    },
    {
      "cell_type": "markdown",
      "source": [
        "Under-sampling"
      ],
      "metadata": {
        "id": "ocpcOaRxMm6f"
      }
    },
    {
      "cell_type": "markdown",
      "source": [
        "Build a sample dataset containing similar distribution of legit & Fraudulant Transaction"
      ],
      "metadata": {
        "id": "TPGstaioM2HP"
      }
    },
    {
      "cell_type": "markdown",
      "source": [
        "Number of Fraudulant Transaction --> 492"
      ],
      "metadata": {
        "id": "la0rlxEENSw8"
      }
    },
    {
      "cell_type": "code",
      "source": [
        "legit_sample = legit.sample(n=492)\n",
        "\n",
        "print(legit_sample.shape)"
      ],
      "metadata": {
        "id": "v_uTLEO0MxQp"
      },
      "execution_count": null,
      "outputs": []
    },
    {
      "cell_type": "markdown",
      "source": [
        "Concatenate the Two DataFrrame"
      ],
      "metadata": {
        "id": "x5lqLdEHOsEv"
      }
    },
    {
      "cell_type": "code",
      "source": [
        "new_dataset = pd.concat([legit_sample, fraud], axis = 0)\n",
        "\n",
        "new_dataset.head()"
      ],
      "metadata": {
        "id": "OOTPa1NjOnpS"
      },
      "execution_count": null,
      "outputs": []
    }
  ]
}