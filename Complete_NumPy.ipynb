{
  "nbformat": 4,
  "nbformat_minor": 0,
  "metadata": {
    "colab": {
      "provenance": [],
      "authorship_tag": "ABX9TyMEBbfP1RUaJD9x0+G73Ym1",
      "include_colab_link": true
    },
    "kernelspec": {
      "name": "python3",
      "display_name": "Python 3"
    },
    "language_info": {
      "name": "python"
    }
  },
  "cells": [
    {
      "cell_type": "markdown",
      "metadata": {
        "id": "view-in-github",
        "colab_type": "text"
      },
      "source": [
        "<a href=\"https://colab.research.google.com/github/4522Devp/Machine_leanring_fundamentals/blob/main/Complete_NumPy.ipynb\" target=\"_parent\"><img src=\"https://colab.research.google.com/assets/colab-badge.svg\" alt=\"Open In Colab\"/></a>"
      ]
    },
    {
      "cell_type": "markdown",
      "source": [
        "Numerical Python = NumPy\n",
        "\n",
        "Advantages of numPy Arrays:\n",
        "\n",
        "1. Allows several mathematical Operations\n",
        "2. faster Operations\n"
      ],
      "metadata": {
        "id": "8lSMffdKZsTd"
      }
    },
    {
      "cell_type": "code",
      "source": [
        "import numpy as np"
      ],
      "metadata": {
        "id": "v3v2dCRTaHpR"
      },
      "execution_count": null,
      "outputs": []
    },
    {
      "cell_type": "markdown",
      "source": [
        "List vs NumPy - TimeTaken"
      ],
      "metadata": {
        "id": "zjANahNcdKip"
      }
    },
    {
      "cell_type": "code",
      "source": [
        "from time import process_time\n",
        "\n",
        "# Time taken by a List\n",
        "\n",
        "list1 = [i for i in range(10000)]\n",
        "\n",
        "start_time = process_time()\n",
        "\n",
        "list1 = [i+5 for i in list1]\n",
        "\n",
        "end_time = process_time()\n",
        "\n",
        "print(end_time - start_time)"
      ],
      "metadata": {
        "colab": {
          "base_uri": "https://localhost:8080/"
        },
        "id": "btIzQerEdR9W",
        "outputId": "a8994cca-c70f-43e2-ca96-5aa9df194caa"
      },
      "execution_count": null,
      "outputs": [
        {
          "output_type": "stream",
          "name": "stdout",
          "text": [
            "0.0015837489999999121\n"
          ]
        }
      ]
    },
    {
      "cell_type": "code",
      "source": [
        "np_array = np.array([i for i in range(10000)])\n",
        "\n",
        "start_time = process_time()\n",
        "\n",
        "np_array +=5\n",
        "\n",
        "end_time = process_time()\n",
        "\n",
        "print(end_time - start_time)"
      ],
      "metadata": {
        "colab": {
          "base_uri": "https://localhost:8080/"
        },
        "id": "IUZX3BbMeU3P",
        "outputId": "0f1b2316-d10e-469f-f124-e8a3fdac9d26"
      },
      "execution_count": null,
      "outputs": [
        {
          "output_type": "stream",
          "name": "stdout",
          "text": [
            "0.0011834290000010128\n"
          ]
        }
      ]
    },
    {
      "cell_type": "markdown",
      "source": [
        "#NumPy arrays"
      ],
      "metadata": {
        "id": "8Rf4SJCJfSKC"
      }
    },
    {
      "cell_type": "code",
      "source": [
        "list1 = [ 1,2,3,4,5]\n",
        "print(list1)\n",
        "print(type(list1))"
      ],
      "metadata": {
        "colab": {
          "base_uri": "https://localhost:8080/"
        },
        "id": "WA2nPTA3fW8x",
        "outputId": "1aba7c1e-a6c9-4381-f236-2025c9c89012"
      },
      "execution_count": null,
      "outputs": [
        {
          "output_type": "stream",
          "name": "stdout",
          "text": [
            "[1, 2, 3, 4, 5]\n",
            "<class 'list'>\n"
          ]
        }
      ]
    },
    {
      "cell_type": "code",
      "source": [
        "np_array = np.array([1,2,3,4,5])\n",
        "print(np_array)\n",
        "print(type(np_array))"
      ],
      "metadata": {
        "colab": {
          "base_uri": "https://localhost:8080/"
        },
        "id": "IABW5Q1Ofn1w",
        "outputId": "3327307a-854c-41ac-c65d-e2cb45ad1669"
      },
      "execution_count": null,
      "outputs": [
        {
          "output_type": "stream",
          "name": "stdout",
          "text": [
            "[1 2 3 4 5]\n",
            "<class 'numpy.ndarray'>\n"
          ]
        }
      ]
    },
    {
      "cell_type": "code",
      "source": [
        "# creating a one dimensional array\n",
        "\n",
        "a = np.array([1,2,3,4])\n",
        "print(a)\n",
        "\n",
        "a.shape"
      ],
      "metadata": {
        "colab": {
          "base_uri": "https://localhost:8080/"
        },
        "id": "9Lrvr6Alf5M3",
        "outputId": "380abc0f-cce5-4a0f-8fe2-42b530bfe451"
      },
      "execution_count": null,
      "outputs": [
        {
          "output_type": "stream",
          "name": "stdout",
          "text": [
            "[1 2 3 4]\n"
          ]
        },
        {
          "output_type": "execute_result",
          "data": {
            "text/plain": [
              "(4,)"
            ]
          },
          "metadata": {},
          "execution_count": 10
        }
      ]
    },
    {
      "cell_type": "code",
      "source": [
        "b = np.array([(1,2,3,4),(5,6,7,8)])\n",
        "print(b)\n",
        "print(type(b))\n",
        "b.shape         #(row,coloumn)"
      ],
      "metadata": {
        "colab": {
          "base_uri": "https://localhost:8080/"
        },
        "id": "nUs9JbTdgPXo",
        "outputId": "9acfb4d0-4bb9-459f-bccd-40ade35e275e"
      },
      "execution_count": null,
      "outputs": [
        {
          "output_type": "stream",
          "name": "stdout",
          "text": [
            "[[1 2 3 4]\n",
            " [5 6 7 8]]\n",
            "<class 'numpy.ndarray'>\n"
          ]
        },
        {
          "output_type": "execute_result",
          "data": {
            "text/plain": [
              "(2, 4)"
            ]
          },
          "metadata": {},
          "execution_count": 13
        }
      ]
    },
    {
      "cell_type": "code",
      "source": [
        "c =np.array([(1,2,3,4),(5,6,7,8)], dtype=float)\n",
        "print(c)\n"
      ],
      "metadata": {
        "colab": {
          "base_uri": "https://localhost:8080/"
        },
        "id": "zxQCeEykg_Yt",
        "outputId": "493b4997-4700-4cb7-8692-e932e73ca109"
      },
      "execution_count": null,
      "outputs": [
        {
          "output_type": "stream",
          "name": "stdout",
          "text": [
            "[[1. 2. 3. 4.]\n",
            " [5. 6. 7. 8.]]\n"
          ]
        }
      ]
    },
    {
      "cell_type": "markdown",
      "source": [
        "Initial placeHolders in numpy arrays"
      ],
      "metadata": {
        "id": "R3-lOSwEhY4Z"
      }
    },
    {
      "cell_type": "code",
      "source": [
        "# create a numpy array of Zeros\n",
        "\n",
        "x = np.zeros((4,5))\n",
        "print(x)"
      ],
      "metadata": {
        "colab": {
          "base_uri": "https://localhost:8080/"
        },
        "id": "96jxxTtThkdp",
        "outputId": "bc2a9da7-7c5c-419b-e54a-c83033be181d"
      },
      "execution_count": null,
      "outputs": [
        {
          "output_type": "stream",
          "name": "stdout",
          "text": [
            "[[0. 0. 0. 0. 0.]\n",
            " [0. 0. 0. 0. 0.]\n",
            " [0. 0. 0. 0. 0.]\n",
            " [0. 0. 0. 0. 0.]]\n"
          ]
        }
      ]
    },
    {
      "cell_type": "code",
      "source": [
        "# create a numpy array of ones\n",
        "\n",
        "y = np.ones((3,4))\n",
        "print(y)"
      ],
      "metadata": {
        "colab": {
          "base_uri": "https://localhost:8080/"
        },
        "id": "Ww0M9THoh6e1",
        "outputId": "ae9cd58a-e521-46b6-ba22-7d258004995f"
      },
      "execution_count": null,
      "outputs": [
        {
          "output_type": "stream",
          "name": "stdout",
          "text": [
            "[[1. 1. 1. 1.]\n",
            " [1. 1. 1. 1.]\n",
            " [1. 1. 1. 1.]]\n"
          ]
        }
      ]
    },
    {
      "cell_type": "code",
      "source": [
        "# array of a particular value\n",
        "\n",
        "z = np.full((5,4),5)\n",
        "print(z)"
      ],
      "metadata": {
        "colab": {
          "base_uri": "https://localhost:8080/"
        },
        "id": "aVvpTnlPidgU",
        "outputId": "a27588ae-af29-4246-d89a-25dde2a84ad6"
      },
      "execution_count": null,
      "outputs": [
        {
          "output_type": "stream",
          "name": "stdout",
          "text": [
            "[[5 5 5 5]\n",
            " [5 5 5 5]\n",
            " [5 5 5 5]\n",
            " [5 5 5 5]\n",
            " [5 5 5 5]]\n"
          ]
        }
      ]
    },
    {
      "cell_type": "code",
      "source": [
        "#create an Identity matrix\n",
        "a = np.eye(4)\n",
        "print(a)"
      ],
      "metadata": {
        "colab": {
          "base_uri": "https://localhost:8080/"
        },
        "id": "a-CJvETCiv0B",
        "outputId": "ed0f9789-b4f7-40b8-893d-b6a10eb7befe"
      },
      "execution_count": null,
      "outputs": [
        {
          "output_type": "stream",
          "name": "stdout",
          "text": [
            "[[1. 0. 0. 0.]\n",
            " [0. 1. 0. 0.]\n",
            " [0. 0. 1. 0.]\n",
            " [0. 0. 0. 1.]]\n"
          ]
        }
      ]
    },
    {
      "cell_type": "code",
      "source": [
        "#create a numpy value with random values\n",
        "b = np.random.random((3,4))\n",
        "print(b)"
      ],
      "metadata": {
        "colab": {
          "base_uri": "https://localhost:8080/"
        },
        "id": "3MFNlhLOjQd_",
        "outputId": "37db2908-3135-4030-ad23-e660b6442b0e"
      },
      "execution_count": null,
      "outputs": [
        {
          "output_type": "stream",
          "name": "stdout",
          "text": [
            "[[0.84789772 0.82107227 0.70902264 0.98752782]\n",
            " [0.37843415 0.78072343 0.37132957 0.33985789]\n",
            " [0.43906964 0.12753575 0.82673355 0.41170252]]\n"
          ]
        }
      ]
    },
    {
      "cell_type": "code",
      "source": [
        "# random integer values array within  a specific range\n",
        "\n",
        "c = np.random.randint(10,100,(3,4))\n",
        "print(c)"
      ],
      "metadata": {
        "colab": {
          "base_uri": "https://localhost:8080/"
        },
        "id": "VMjuv3tzjw_F",
        "outputId": "f218be90-b74b-41f2-942e-ae35d20815d9"
      },
      "execution_count": null,
      "outputs": [
        {
          "output_type": "stream",
          "name": "stdout",
          "text": [
            "[[48 64 33 47]\n",
            " [45 32 60 68]\n",
            " [48 92 34 79]]\n"
          ]
        }
      ]
    },
    {
      "cell_type": "code",
      "source": [
        "# create an array of evenly spaced values --> specifying the number of values required\n",
        "\n",
        "d = np.linspace(10,30,6)\n",
        "print(d)"
      ],
      "metadata": {
        "colab": {
          "base_uri": "https://localhost:8080/"
        },
        "id": "Y-plpEbGkg46",
        "outputId": "284f206f-30f0-44fc-b12e-711ee540692a"
      },
      "execution_count": null,
      "outputs": [
        {
          "output_type": "stream",
          "name": "stdout",
          "text": [
            "[10. 14. 18. 22. 26. 30.]\n"
          ]
        }
      ]
    },
    {
      "cell_type": "code",
      "source": [
        "# array of evenly spaced values --> specifying steps      diffrent between values\n",
        "\n",
        "e = np.arange(10,30,6)\n",
        "print(e)"
      ],
      "metadata": {
        "colab": {
          "base_uri": "https://localhost:8080/"
        },
        "id": "NvZBesE1lIPk",
        "outputId": "a1bbe596-507c-4ccc-9297-ea770efa3a2e"
      },
      "execution_count": null,
      "outputs": [
        {
          "output_type": "stream",
          "name": "stdout",
          "text": [
            "[10 16 22 28]\n"
          ]
        }
      ]
    },
    {
      "cell_type": "code",
      "source": [
        "# convert a list to a numpy array\n",
        "\n",
        "list2 = [10,20,30,40,50]\n",
        "\n",
        "np_array = np.asarray(list2)\n",
        "\n",
        "print(np_array)\n",
        "print(type(np_array))"
      ],
      "metadata": {
        "colab": {
          "base_uri": "https://localhost:8080/"
        },
        "id": "axL4-Rc9l2TU",
        "outputId": "e33c9a4e-0dcf-4cc6-b81e-23a6bca3bb94"
      },
      "execution_count": null,
      "outputs": [
        {
          "output_type": "stream",
          "name": "stdout",
          "text": [
            "[10 20 30 40 50]\n",
            "<class 'numpy.ndarray'>\n"
          ]
        }
      ]
    },
    {
      "cell_type": "markdown",
      "source": [
        "**Analysing a Numpy Array**"
      ],
      "metadata": {
        "id": "foUM6_CmnUkR"
      }
    },
    {
      "cell_type": "code",
      "source": [
        "c = np.random.randint(10,90,(3,5))\n",
        "print(c)"
      ],
      "metadata": {
        "colab": {
          "base_uri": "https://localhost:8080/"
        },
        "id": "bEkr70-HneE8",
        "outputId": "3df1bcc9-6eb8-42d3-f0c5-71cc284e7dce"
      },
      "execution_count": null,
      "outputs": [
        {
          "output_type": "stream",
          "name": "stdout",
          "text": [
            "[[82 59 78 36 37]\n",
            " [41 32 73 46 32]\n",
            " [77 25 89 53 67]]\n"
          ]
        }
      ]
    },
    {
      "cell_type": "code",
      "source": [
        "# array dimensions\n",
        "print(c.shape)"
      ],
      "metadata": {
        "colab": {
          "base_uri": "https://localhost:8080/"
        },
        "id": "2s53B5pmnxZe",
        "outputId": "9b017cf6-b0c3-4f3d-9724-17b1afb751ea"
      },
      "execution_count": null,
      "outputs": [
        {
          "output_type": "stream",
          "name": "stdout",
          "text": [
            "(3, 5)\n"
          ]
        }
      ]
    },
    {
      "cell_type": "code",
      "source": [
        "# no of dimension\n",
        "\n",
        "print(c.ndim)"
      ],
      "metadata": {
        "colab": {
          "base_uri": "https://localhost:8080/"
        },
        "id": "7WojTKzjn6ij",
        "outputId": "a1b93589-7cf7-4ef6-cdb6-1330e08b059a"
      },
      "execution_count": null,
      "outputs": [
        {
          "output_type": "stream",
          "name": "stdout",
          "text": [
            "2\n"
          ]
        }
      ]
    },
    {
      "cell_type": "code",
      "source": [
        "# number of element in array\n",
        "\n",
        "print(c.size)"
      ],
      "metadata": {
        "colab": {
          "base_uri": "https://localhost:8080/"
        },
        "id": "WDjmKTRkoYCW",
        "outputId": "3e2619af-1e53-45cf-cad6-1fe3e3fef8f9"
      },
      "execution_count": null,
      "outputs": [
        {
          "output_type": "stream",
          "name": "stdout",
          "text": [
            "15\n"
          ]
        }
      ]
    },
    {
      "cell_type": "code",
      "source": [
        "#checking the data typee of numpy array\n",
        "print(c.dtype)"
      ],
      "metadata": {
        "colab": {
          "base_uri": "https://localhost:8080/"
        },
        "id": "djBJBADnomXc",
        "outputId": "ffbba650-b083-4c8c-8364-26003538dfc4"
      },
      "execution_count": null,
      "outputs": [
        {
          "output_type": "stream",
          "name": "stdout",
          "text": [
            "int64\n"
          ]
        }
      ]
    },
    {
      "cell_type": "markdown",
      "source": [
        "**Mathematical operations on a NP array**"
      ],
      "metadata": {
        "id": "PZUpE70Yo3xw"
      }
    },
    {
      "cell_type": "code",
      "source": [
        "list1 = [1,2,3,4,5]\n",
        "list2 = [6,7,8,9,10]\n",
        "\n",
        "print(list1 + list2) # not add only join the list"
      ],
      "metadata": {
        "id": "BKeeBTyuplmw"
      },
      "execution_count": null,
      "outputs": []
    },
    {
      "cell_type": "code",
      "source": [
        "\n",
        "a = np.random.randint(0,10,(3,3))\n",
        "b = np.random.randint(10,20,(3,3))\n",
        "\n",
        "print(a)\n",
        "print(b)"
      ],
      "metadata": {
        "colab": {
          "base_uri": "https://localhost:8080/"
        },
        "id": "iPnp9PLcpmnv",
        "outputId": "7d78a4db-c68f-4265-e3a4-8cce99512b6e"
      },
      "execution_count": null,
      "outputs": [
        {
          "output_type": "stream",
          "name": "stdout",
          "text": [
            "[[4 4 2]\n",
            " [0 8 7]\n",
            " [5 6 0]]\n",
            "[[14 14 13]\n",
            " [10 11 10]\n",
            " [12 11 11]]\n"
          ]
        }
      ]
    },
    {
      "cell_type": "code",
      "source": [
        "print(a+b)  # it adds two Np array , not concadinate or join"
      ],
      "metadata": {
        "colab": {
          "base_uri": "https://localhost:8080/"
        },
        "id": "7gRUdg8XqJBl",
        "outputId": "b8c88593-eae4-4f16-a5b8-6e4162842d32"
      },
      "execution_count": null,
      "outputs": [
        {
          "output_type": "stream",
          "name": "stdout",
          "text": [
            "[[18 18 15]\n",
            " [10 19 17]\n",
            " [17 17 11]]\n"
          ]
        }
      ]
    },
    {
      "cell_type": "code",
      "source": [
        "\n",
        "a = np.random.randint(0,10,(3,3))\n",
        "b = np.random.randint(10,20,(3,3))\n",
        "\n",
        "print(a)\n",
        "print(b)\n",
        "\n",
        "print(np.add(a,b))\n",
        "print(np.subtract(a,b))    #it also do the same task\n"
      ],
      "metadata": {
        "colab": {
          "base_uri": "https://localhost:8080/"
        },
        "id": "7b6UH6ygqbCx",
        "outputId": "91ff2061-89bd-45b6-8869-97301ba23335"
      },
      "execution_count": null,
      "outputs": [
        {
          "output_type": "stream",
          "name": "stdout",
          "text": [
            "[[5 3 0]\n",
            " [3 0 1]\n",
            " [6 0 6]]\n",
            "[[12 11 19]\n",
            " [16 16 18]\n",
            " [14 13 12]]\n",
            "[[17 14 19]\n",
            " [19 16 19]\n",
            " [20 13 18]]\n",
            "[[ -7  -8 -19]\n",
            " [-13 -16 -17]\n",
            " [ -8 -13  -6]]\n"
          ]
        }
      ]
    },
    {
      "cell_type": "markdown",
      "source": [
        "Array manipulation"
      ],
      "metadata": {
        "id": "AwLx2nHZrIAd"
      }
    },
    {
      "cell_type": "code",
      "source": [
        "array = np.random.randint(0,10,(2,3))\n",
        "print(array)\n",
        "\n",
        "print(array.shape)"
      ],
      "metadata": {
        "colab": {
          "base_uri": "https://localhost:8080/"
        },
        "id": "JlO7Jq_IrMF4",
        "outputId": "64c60bfd-a5cc-4352-df2c-7b68c85c1732"
      },
      "execution_count": null,
      "outputs": [
        {
          "output_type": "stream",
          "name": "stdout",
          "text": [
            "[[6 5 2]\n",
            " [3 3 2]]\n",
            "(2, 3)\n"
          ]
        }
      ]
    },
    {
      "cell_type": "code",
      "source": [
        "# transpose\n",
        "trans = np.transpose(array)\n",
        "print(trans)\n",
        "\n",
        "print(trans.shape)           # it converts row into column and column into row"
      ],
      "metadata": {
        "colab": {
          "base_uri": "https://localhost:8080/"
        },
        "id": "0mxynxxNri0P",
        "outputId": "dd0a236c-0b41-4179-8611-e914d094d650"
      },
      "execution_count": null,
      "outputs": [
        {
          "output_type": "stream",
          "name": "stdout",
          "text": [
            "[[6 3]\n",
            " [5 3]\n",
            " [2 2]]\n",
            "(3, 2)\n"
          ]
        }
      ]
    },
    {
      "cell_type": "code",
      "source": [
        "array = np.random.randint(0,10,(2,3))\n",
        "print(array)\n",
        "\n",
        "print(array.shape)\n",
        "\n",
        "trans2 = array.T\n",
        "print(trans2)\n",
        "print(trans2.shape)"
      ],
      "metadata": {
        "colab": {
          "base_uri": "https://localhost:8080/"
        },
        "id": "a0gLb-pGsSYo",
        "outputId": "f52a284c-ce4d-408d-88ed-a84dc9248548"
      },
      "execution_count": null,
      "outputs": [
        {
          "output_type": "stream",
          "name": "stdout",
          "text": [
            "[[5 9 3]\n",
            " [9 5 1]]\n",
            "(2, 3)\n",
            "[[5 9]\n",
            " [9 5]\n",
            " [3 1]]\n",
            "(3, 2)\n"
          ]
        }
      ]
    },
    {
      "cell_type": "code",
      "source": [
        "#reshaping array\n",
        "\n",
        "a = np.random.randint(0,10,(2,3))\n",
        "print(a)\n",
        "print(a.shape)\n",
        "\n",
        "print(\"\\n\")\n",
        "\n",
        "b = a.reshape(3,2)\n",
        "print(b)"
      ],
      "metadata": {
        "colab": {
          "base_uri": "https://localhost:8080/"
        },
        "id": "sQeKJ18kstfO",
        "outputId": "aa6d70f3-43a1-424d-a270-1d9e35e27722"
      },
      "execution_count": null,
      "outputs": [
        {
          "output_type": "stream",
          "name": "stdout",
          "text": [
            "[[6 7 2]\n",
            " [8 1 9]]\n",
            "(2, 3)\n",
            "\n",
            "\n",
            "[[6 7]\n",
            " [2 8]\n",
            " [1 9]]\n"
          ]
        }
      ]
    }
  ]
}