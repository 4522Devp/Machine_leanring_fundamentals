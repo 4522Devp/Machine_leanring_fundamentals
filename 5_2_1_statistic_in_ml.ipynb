{
  "nbformat": 4,
  "nbformat_minor": 0,
  "metadata": {
    "colab": {
      "provenance": [],
      "authorship_tag": "ABX9TyOv6e5ozzp68hgoNVedb/8c",
      "include_colab_link": true
    },
    "kernelspec": {
      "name": "python3",
      "display_name": "Python 3"
    },
    "language_info": {
      "name": "python"
    }
  },
  "cells": [
    {
      "cell_type": "markdown",
      "metadata": {
        "id": "view-in-github",
        "colab_type": "text"
      },
      "source": [
        "<a href=\"https://colab.research.google.com/github/4522Devp/Machine_leanring_fundamentals/blob/main/5_2_1_statistic_in_ml.ipynb\" target=\"_parent\"><img src=\"https://colab.research.google.com/assets/colab-badge.svg\" alt=\"Open In Colab\"/></a>"
      ]
    },
    {
      "cell_type": "markdown",
      "source": [
        "Statistic is the science concerned with developing and Studying methods for collection, analysing, interpreting and presenting data.\n",
        "\n",
        "Statistical Measures:\n",
        "\n",
        "1.   Range\n",
        "2.   Mean\n",
        "3.   Standard Deviation"
      ],
      "metadata": {
        "id": "BjquvyjPQg96"
      }
    },
    {
      "cell_type": "markdown",
      "source": [
        "Statistics is a tool that helps us to extract information & knowledge from data.\n",
        "\n",
        "Six Sigma is nothing but a strategy to improve business processes or industrial processes.\n",
        "\n",
        "TYPES OF DATA\n",
        "\n",
        "1. Categorical Data\n",
        "\n",
        "    * Nomial Data - is a classification of categorial variables, that to do not provide any quatitive value.\n",
        "\n",
        "    * Ordinal Data - are the type of data in which the values follow a natural order.\n",
        "\n",
        "2. Numerical Data\n",
        "    * Discrete - are the types of data that can only take certain values( decimal)\n",
        "\n",
        "    * Continuous Data - can have almost any numeric value. Unlike Discrete data, they can have decimal values."
      ],
      "metadata": {
        "id": "cuRLydDCZmWd"
      }
    },
    {
      "cell_type": "markdown",
      "source": [
        "Types of statistics\n",
        "\n",
        "\n",
        "1. Descriptive Statstics -> are used to describe the basic features of the data in a study. They provide simple summaries about the sample and the measures.\n",
        "   \n",
        "   * Describe the data\n",
        "   * Data Analysis\n",
        "\n",
        "2. Inferential Statistics -> takes data from a sample and makes interfaces and predictios about the larger population from which the sample was drown.\n",
        "   * Get interfaces about the data\n",
        "   * Data Science"
      ],
      "metadata": {
        "id": "QeM3x7Qpn8dv"
      }
    },
    {
      "cell_type": "markdown",
      "source": [
        "2 Important measures of descriptive Statitics:\n",
        "\n",
        "1. Measure of Central Tendencies(Mean, Median, Mode)\n",
        "2. Measure of Variability(Range, Standard Deviation, Varience)\n",
        "\n"
      ],
      "metadata": {
        "id": "s1p2eaWXslqB"
      }
    },
    {
      "cell_type": "markdown",
      "source": [
        "Types of Statistical Studies;\n",
        "\n",
        "1. Sample Study. -> is a study which is carried out on a sample which represents the total populataion.\n",
        "\n",
        "\n",
        "2. Observatioonal Study -> is a study where we simply collect and analyze data. We won't inject any changes. We just observe the correlation in the data. ( not much accurate)\n",
        "3. Experimental Study -> is a study in which conditions are controlled and manipulatd by the experimenter."
      ],
      "metadata": {
        "id": "IZuMohNIGcgg"
      }
    },
    {
      "cell_type": "markdown",
      "source": [
        "Population & Sample - Sampling Techniques\n",
        "\n",
        "( Probability sampling Techniques )\n",
        "1. Simple Random Sampling -> the sample is randomly picked from a larger population. Hence, all the indivisual datapoints has an equal probability to be selected as sample data.\n",
        "  Ex-  Employee survey in a company\n",
        "    * PROS                            \n",
        "    1. No sample Bias\n",
        "    2. Balanced Sample\n",
        "    3. Simple Method of Sampling\n",
        "    4. Requires less domain knowledge\n",
        "\n",
        "    * CONS\n",
        "    1. Population size should be high\n",
        "    2. cannot represented the population well sometimes.\n",
        "\n",
        "2. systematic Sampling -> the sample is picked from the population at regular intervals. This type of sampling is carrried out if the population is homogenous and the data points are uniformaly distriduted.\n",
        "Ex- Selecting every 10th member from of a population of 10,000.\n",
        "    * PROS:\n",
        "    1. Quick & Easy\n",
        "    2. Less Bias\n",
        "    3. Even distribution of data.\n",
        "\n",
        "    * CONS:\n",
        "    1. data manipulation risk\n",
        "    2. Requires randomness in data\n",
        "    3. Population should not have patterns\n",
        "\n",
        "3. Stratified Random Sampling -> the population is subdivided into smaller groups called Strata. Samples are obtained randomly from all these strata.\n",
        "Ex- Smartphones sales in all the states\n",
        "    * PROS:\n",
        "    1. finds important characterstics in the population\n",
        "    2. High precision can be obtained if the diffrences in the strata is high.\n",
        "\n",
        "    * CONS:\n",
        "    1. Cannot be performed on population that cannot be classified into groups.\n",
        "    2. Overlapping data points.\n",
        "\n",
        "4. Cluster Sampling -> is carried out on population that has inherents groups. This population is subdivided into clusters and then random clusters are taken as sample.\n",
        "  Ex - smartphones sales in randomly selected states.\n",
        "\n",
        "  * PROS:\n",
        "    1. Requires only fewer resources\n",
        "    2. Reduced variablity\n",
        "    3. Advantages of both Random sampling and Stratified Sampling\n",
        "  \n",
        "  * ONS:\n",
        "    1. Cannot be performed on populations without natural groups\n",
        "    2. Overlapping data points\n",
        "    3. Can't Provide general insight for entire Population\n",
        "\n",
        "    "
      ],
      "metadata": {
        "id": "h1IxKKy8KXnm"
      }
    },
    {
      "cell_type": "markdown",
      "source": [
        "**Central Tendency**\n",
        "\n",
        "A measure of central tendency is a value that represents the center point or typical value of a dataset. It is a value that summarizes the data.\n",
        "\n",
        "Types of Central Tendancy\n",
        "  1. Mean -> or arithimic mean is the sum of values divided by the number of values.\n",
        "  M = Σx/N\n",
        "\n",
        "  2. Median -> is the middle value in the list of numbers. To find the median, the numbers have to be listed in numerical order from smallest to largest.\n",
        "\n",
        "  3. Mode ->is the value that occurs most often. If no number in the list is repeated, Then there is no mode for the list.\n",
        "\n",
        "**Central Tendencie are very usefull in handling the missing values in a dataset.**\n",
        "\n",
        "*Mean:* Missing values in a dataset can be reolaced with Mean value, if the data is uniformly distributed.\n",
        "\n",
        "*Median:* Missing values in a dataset can be replaced with median value, if the data is skewed.\n",
        "\n",
        "*Mode:* Missing values in a dataset can be replaced with mode value, if the data is skewed. Missing categorical values can also be replaced with mode values."
      ],
      "metadata": {
        "id": "Dq-_TYf0V6CG"
      }
    },
    {
      "cell_type": "markdown",
      "source": [
        "**Measure of Variability:**\n",
        "(Range, varience & standard Deviation)\n",
        "\n",
        "Types:\n",
        "  1. Range -> The range of a set of data is the diffrence between the largest and smallest values. It can give a rough idea about the distrtibuion of our dataset.\n",
        "\n",
        "  range = Max value - Min value\n",
        "\n",
        "  2. Variance -> is a measure of how for each member in the set is from the mean and therefore from every other number in the dataset.\n",
        "\n",
        "  σ^2 = Σ(x-μ)^2/N\n",
        "\n",
        "  μ = mean of dataset\n",
        "\n",
        "  3. Standard Deviation ->is the squreroot of varience. Standaard deviation looks at how spread out a group of numbers is from the mean.\n",
        "\n",
        "  SD = 2√σ"
      ],
      "metadata": {
        "id": "m8FYVUyqbfV-"
      }
    },
    {
      "cell_type": "markdown",
      "source": [
        "**Percentiles & Quantiles**\n",
        "\n",
        "Distribution of data points in dataset\n",
        "\n",
        "* Percentiles -> is a value on a scale of 100 that indicates the percent of a distribution of a distribution that is equal to or below it.\n",
        "\n",
        "* Quantiles -> is a measures that tells how many values in a dataset are above or below a certain limit. it divides teh members of the dataset into equally-sized subgroups.\n",
        "\n",
        "    it divides the data into equally subgroups.\n",
        "    "
      ],
      "metadata": {
        "id": "mYHaMqkcfyk6"
      }
    },
    {
      "cell_type": "markdown",
      "source": [
        "**Correlation & Causation**\n",
        "\n",
        "Finds the relationship between the features in a dataset\n",
        "\n",
        "1. Correlation -> is ameasure that determines the extent to which two variables are related to each other in a dataset. But it doesn't mean that one event is the cause of the other event.\n",
        "  * Positive Correlation - One variable is directly prapositional to another one\n",
        "  * Negative Correlation - They are inversly prapositional to each other.\n",
        "\n",
        "2. Causation -> it means one event causes another event to occur, Thus, there is a cause and effect relationship between the two variables in a dataset."
      ],
      "metadata": {
        "id": "uVkq95n071Oe"
      }
    },
    {
      "cell_type": "markdown",
      "source": [
        "**Hypothesis Testing:**\n",
        "\n",
        "Hypothesis is an assumption that is made based on the observation of an experiment. Hypothesis Testing is a Method carried out to tests the assumptions made in the experiment.\n",
        "\n",
        "Types:\n",
        "1. Null Hypothesis -> is the commonly accepted fact.\n",
        "       Example- Ptolemy proposed that sun, stars and other planets revolve around the earth.\n",
        "\n",
        "2. Alternative Hypothesis: -> is a opposite to null hypothesis and it challenges the null hypothesis.\n",
        "        Example -> Aryabhata proposed that earth and other planets revolve around the sun.\n",
        "\n",
        "\n"
      ],
      "metadata": {
        "id": "KEF-YVWx_7JC"
      }
    }
  ]
}